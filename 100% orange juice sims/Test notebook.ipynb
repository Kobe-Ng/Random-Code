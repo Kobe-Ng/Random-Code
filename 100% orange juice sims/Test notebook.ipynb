{
 "cells": [
  {
   "cell_type": "code",
   "execution_count": null,
   "metadata": {},
   "outputs": [],
   "source": [
    "from steam import *\n",
    "import datetime\n",
    "\n",
    "chars = [\"DLC21\", \"DLC20B\", \"DLC20A\", \"DLC19B\", \"DLC19A\",\n",
    "         \"DLC17B\", \"DLC17A\", \"DLC16B\", \"DLC16A\", \"DLC15B\",\n",
    "         \"SUGV2\", \"DLC15B\", \"DLC15A\", \"DLC13B\", \"DLC13A\",\n",
    "         \"DLC11B\", \"DLC11A\", \"ARUS\", \"SWEETBREAKER\",\n",
    "         \"STARBREAKER\", \"SORAMILITARY\", \"SHERRY\", \"SHAM\",\n",
    "         \"MIXEDPOPPO\", \"KYOKO\", \"ALTE\", \"KAE\", \"KRILA\",\n",
    "         \"KYOUSUKE\", \"SAKI\", \"QPD\", \"SYURA\", \"NANAKO\",\n",
    "         \"SEAGULL\", \"ROBOT\", \"CHICKEN\", \"CASTLE\",\n",
    "         \"BOSSROBOT\", \"MANAGER\", \"TOMOMO\", \"POPPO\", \"KAI\",\n",
    "         \"PEAT\", \"FERNET\", \"MARC\", \"SUGURI\", \"ARU\", \"YUKI\", \"QP\"]\n",
    "steam_stats = {}\n",
    "\n",
    "# Controls the time period we collect stats from in days\n",
    "collection_period = 30\n",
    "\n",
    "# Steam API takes unix epoch time. This calculates the unix epoch time\n",
    "# for today, and collection_period days ago.\n",
    "startdate =  str((datetime.date.today() - datetime.timedelta(collection_period)).strftime(\"%s\"))\n",
    "enddate = str(datetime.date.today().strftime(\"%s\"))\n",
    "\n",
    "# create keys for steam api query.\n",
    "for char in chars:\n",
    "    request_string_wins = \"STAT_\" + char + \"_ONLINE_GAMES\"\n",
    "    request_string_games = \"STAT_\" + char + \"_ONLINE_WINS\"\n",
    "    steam_stats[char] = {}\n",
    "    steam_stats[char][request_string_wins] = 0\n",
    "    steam_stats[char][request_string_games] = 0\n",
    "\n",
    "# build urls & query steam API for data\n",
    "for char in steam_stats:\n",
    "    for stat in steam_stats[char]:\n",
    "        url =\"https://api.steampowered.com/ISteamUserStats/GetGlobalStatsForGame/v1/?appid=282800&count=1&name[0]=\" + stat + \"&startdate=\"+ startdate + \"&enddate=\" + enddate\n",
    "        response = webapi.webapi_request(url)\n",
    "        total = 0\n",
    "        for data in response[\"response\"][\"globalstats\"][stat][\"history\"]:\n",
    "            total += int(data[\"total\"])\n",
    "\n",
    "        steam_stats[char][stat] = total\n",
    "\n",
    "# calculate winrates\n",
    "for char in steam_stats:\n",
    "    wins = steam_stats[char][\"STAT_\" + char + \"_ONLINE_WINS\"]\n",
    "    games = steam_stats[char][\"STAT_\" + char + \"_ONLINE_GAMES\"]\n",
    "    steam_stats[char][char + \"_WINRATE\"] = wins / games * 100\n",
    "\n",
    "for char in steam_stats:\n",
    "    print(steam_stats[char])\n",
    "    print(\"\\n\")\n"
   ]
  }
 ],
 "metadata": {
  "kernelspec": {
   "display_name": "Python 3",
   "language": "python",
   "name": "python3"
  },
  "language_info": {
   "codemirror_mode": {
    "name": "ipython",
    "version": 3
   },
   "file_extension": ".py",
   "mimetype": "text/x-python",
   "name": "python",
   "nbconvert_exporter": "python",
   "pygments_lexer": "ipython3",
   "version": "3.7.2"
  }
 },
 "nbformat": 4,
 "nbformat_minor": 4
}
